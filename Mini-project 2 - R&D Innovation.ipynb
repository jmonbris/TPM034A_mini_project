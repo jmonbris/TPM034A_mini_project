{
 "cells": [
  {
   "cell_type": "markdown",
   "id": "e32e6a8d",
   "metadata": {
    "pycharm": {
     "name": "#%% md\n"
    }
   },
   "source": [
    "# TPM034A Machine Learning for socio-technical systems \n",
    "## `Mini-project #2: Predicting Innovative Outcomes of Applied Research Projects in the NL`\n",
    "\n",
    "**Delft University of Technology**<br>\n",
    "**Q2 2023**<br>\n",
    "**Module manager:** Dr. Sander van Cranenburgh <br>\n",
    "**Instructors:** Dr. Sander van Cranenburgh, Dr. Giacomo Marangoni, Dr. Amir Pooyan Afghari <br>\n",
    "**TAs:**  Francisco Garrido Valenzuela & Lucas Spierenburg <br>"
   ]
  },
  {
   "cell_type": "markdown",
   "id": "5f634f93",
   "metadata": {
    "pycharm": {
     "name": "#%% md\n"
    }
   },
   "source": [
    "## `Learning objectives:`\n",
    "This mini-project addresses LO3, LO4, LO5 and LO6 in the course.\n",
    "\n",
    "After the course, students can:\n",
    "1. explain fundamental concepts of machine learning (ML).\n",
    "2. conceptually explain the workings of a selected number of ML models and eXplainable AI (XAI) techniques, and apply these to empirical data.\n",
    "3. **identify applications of ML and XAI techniques in real-world socio-technical systems**\n",
    "4. **examine the impact of ML-based solutions and interventions on individuals, organisations, and society through XAI.**\n",
    "5. **conduct an in-depth analysis of a real-world socio-technical challenge, by applying ML and XAI to empirical data.**\n",
    "6. **reflect on the strengths and limitations of ML and XAI in real-world socio-technical systems.**"
   ]
  },
  {
   "cell_type": "markdown",
   "metadata": {
    "collapsed": false,
    "pycharm": {
     "name": "#%% md\n"
    }
   },
   "source": [
    "## `Project description` <br>\n",
    "\n",
    "### **Introduction**\n",
    "The Dutch government has an array of funding schemes available to foster knowledge production in the Netherlands. One of these schemes focuses on addressing the Dutch “knowledge paradox”: Despite the country’s strong science foundation, companies perform relatively weakly in research & development. The scheme addresses this issue by explicitly requiring funding applicants to set up a committee consisting of members from industry to discuss the potential applicability of (intermediate) findings and steer the research process. The underlying idea is that involving (potential) users like this will increase the likelihood of a project that generates innovative outcomes. However, considerable debate exists on how to organize such committees most effectively. Should members, for example, have a diverse technological background or not? Should the selection favour those project leaders who are more experienced? And what about the organization of the networks in which these projects become embedded because of inter-project links? \n",
    "The objective of this mini-project is to investigate whether a research project's innovative outcome can be predicted using data on the project network characteristics.\n",
    "\n",
    "### **Data**\n",
    "You have access to the following data:\n",
    "1.\tProject network characteristics for research projects in the Netherlands,\n",
    "2.\tThe final innovative outcomes of projects based on the extent to which the project generated a product.\n",
    "The file 'data descrition.pdf' provides a brief explanation of the data.\n",
    "\n",
    "### **Tasks and grading**\n",
    "There are 8 tasks in this project. In total, 10 points can be earned for these 8 tasks. The weight per task is shown below.\n",
    "\n",
    "1.\t**Data preparation**: prepare the data and separate training and testing data, handle the missing data, handle outliers [1 point]\n",
    "2.\t**Data discovery and visualisation**: investigate the distribution of variables, the correlation between variables, etc. [1 point]\n",
    "3.\t**Selection and application of a proper analytical technique**: create a regression or a machine learning model to predict the innovative outcome of the projects [1 point]\n",
    "4.\t**Model evaluation and output visualization**: evaluate the prediction ability of the selected model(s) [1 point]\n",
    "5.\t**Model explanation**: Identify top 5 features that have the most contribution to innovative outcome of the projects [1 point]\n",
    "6.\tName two analytical strengths and two analytical limitations of your selected model and data to predict aggression levels [2 points]\n",
    "7.\tDiscuss the societal impact of these analytical strengths and limitations on individuals, organisations, and society [2 points] \n",
    "8.\tPropose a potential analytical solution (related to model or data) for mitigating the most severe limitation [1 point]\n",
    "\n",
    "\n",
    "\n",
    "### **Grading criteria:**\n",
    "For the first five tasks:\n",
    "- Correctness of methods and techniques (45%)\n",
    "- Completeness (45%)\n",
    "- Coding skills (10%) \n",
    "\n",
    "For task 6, 7, 8:\n",
    "- Depth of critical thinking and creativity (60%)\n",
    "- Completeness (40%)\n",
    "\n",
    "\n",
    "### **Submission**\n",
    "When you finish the project, please submit the Jupyter Notebook file of your work to Brightspace and prepare a final presentation (including the results of the tasks) to be delivered on the presentations day.\n",
    "This project is a group project and so each group must submit one Jupyter Notebook file. However, it is expected that all members of the group contribute to the project and so they all must participate in the final presentation.\n",
    "\n",
    "The deadline for submission is **11/01/2024**."
   ]
  },
  {
   "cell_type": "code",
   "execution_count": null,
   "metadata": {
    "vscode": {
     "languageId": "plaintext"
    }
   },
   "outputs": [],
   "source": []
  }
 ],
 "metadata": {
  "kernelspec": {
   "display_name": "Python 3.9.15 64-bit ('master')",
   "language": "python",
   "name": "python3"
  },
  "language_info": {
   "codemirror_mode": {
    "name": "ipython",
    "version": 3
   },
   "file_extension": ".py",
   "mimetype": "text/x-python",
   "name": "python",
   "nbconvert_exporter": "python",
   "pygments_lexer": "ipython3",
   "version": "3.9.15"
  },
  "vscode": {
   "interpreter": {
    "hash": "7974d34fcb2fda30c24d36d46a04787ea74667e8ee7ebb23e71d798c59985c98"
   }
  }
 },
 "nbformat": 4,
 "nbformat_minor": 5
}
